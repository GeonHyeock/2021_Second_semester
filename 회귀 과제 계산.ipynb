{
 "cells": [
  {
   "cell_type": "code",
   "execution_count": 1,
   "metadata": {},
   "outputs": [],
   "source": [
    "import math"
   ]
  },
  {
   "cell_type": "code",
   "execution_count": 9,
   "metadata": {},
   "outputs": [
    {
     "name": "stdout",
     "output_type": "stream",
     "text": [
      "75.77826086956522 34.60826086956522\n"
     ]
    }
   ],
   "source": [
    "n = 23\n",
    "Sxx = 506.30\n",
    "Sxy = 359.74\n",
    "Syy = 1939.69\n",
    "sum_x = 1742.90\n",
    "sum_y = 795.99\n",
    "x_mean = sum_x / n\n",
    "y_mean = sum_y / n\n",
    "print(x_mean, y_mean)"
   ]
  },
  {
   "cell_type": "code",
   "execution_count": 8,
   "metadata": {},
   "outputs": [
    {
     "name": "stdout",
     "output_type": "stream",
     "text": [
      "0.7105273553229311 -19.23426641705811\n"
     ]
    }
   ],
   "source": [
    "# b\n",
    "b1 = Sxy / Sxx\n",
    "b0 = y_mean - b1 * x_mean\n",
    "print(b1,b0)"
   ]
  },
  {
   "cell_type": "code",
   "execution_count": 17,
   "metadata": {},
   "outputs": [
    {
     "name": "stdout",
     "output_type": "stream",
     "text": [
      "1684.0848891961289\n",
      "80.194518533149\n"
     ]
    }
   ],
   "source": [
    "# c\n",
    "sse = Syy - b1**2 * Sxx\n",
    "print(sse)\n",
    "se = sse/(n-2)\n",
    "print(se)"
   ]
  },
  {
   "cell_type": "code",
   "execution_count": 15,
   "metadata": {},
   "outputs": [
    {
     "data": {
      "text/plain": [
       "-0.07108196731234354"
      ]
     },
     "execution_count": 15,
     "metadata": {},
     "output_type": "execute_result"
    }
   ],
   "source": [
    "# d\n",
    "b0/math.sqrt(se**2 * (1/n + x_mean**2 / Sxx))"
   ]
  },
  {
   "cell_type": "code",
   "execution_count": 20,
   "metadata": {},
   "outputs": [
    {
     "data": {
      "text/plain": [
       "0.19936094439552424"
      ]
     },
     "execution_count": 20,
     "metadata": {},
     "output_type": "execute_result"
    }
   ],
   "source": [
    "# e\n",
    "b1 / math.sqrt(se**2 / Sxx)"
   ]
  },
  {
   "cell_type": "code",
   "execution_count": 19,
   "metadata": {},
   "outputs": [
    {
     "name": "stdout",
     "output_type": "stream",
     "text": [
      "80.194518533149\n",
      "3.1873139895242955\n"
     ]
    }
   ],
   "source": [
    "# f,g\n",
    "ssr = Syy - sse\n",
    "mse = sse / (n-2)\n",
    "print(mse)\n",
    "f = ssr/mse\n",
    "print(f)"
   ]
  },
  {
   "cell_type": "code",
   "execution_count": 23,
   "metadata": {},
   "outputs": [
    {
     "name": "stdout",
     "output_type": "stream",
     "text": [
      "-6.702644284452249\n",
      "8.123698995098112\n"
     ]
    }
   ],
   "source": [
    "# h\n",
    "t_21 = 2.080\n",
    "print(b1 - t_21 * math.sqrt(se**2 / Sxx))\n",
    "print(b1 + t_21 * math.sqrt(se**2 / Sxx))"
   ]
  },
  {
   "cell_type": "code",
   "execution_count": 24,
   "metadata": {},
   "outputs": [
    {
     "name": "stdout",
     "output_type": "stream",
     "text": [
      "-68.66949146097541\n",
      "30.20095862685919\n"
     ]
    }
   ],
   "source": [
    "# i\n",
    "print(b0 - t_21 * math.sqrt(se**2 / (1/n + x_mean**2 / Sxx)))\n",
    "print(b0 + t_21 * math.sqrt(se**2 / (1/n + x_mean**2 / Sxx)))"
   ]
  },
  {
   "cell_type": "code",
   "execution_count": 28,
   "metadata": {},
   "outputs": [
    {
     "name": "stdout",
     "output_type": "stream",
     "text": [
      "-1.2011336214803237\n",
      "69.31170408580377\n"
     ]
    }
   ],
   "source": [
    "# j\n",
    "print(b0 + b1 * 75 - t_21*math.sqrt(se**2*(1/n + (75 - x_mean)**2 / Sxx)))\n",
    "print(b0 + b1 * 75 + t_21*math.sqrt(se**2*(1/n + (75 - x_mean)**2 / Sxx)))"
   ]
  },
  {
   "cell_type": "code",
   "execution_count": 27,
   "metadata": {},
   "outputs": [
    {
     "name": "stdout",
     "output_type": "stream",
     "text": [
      "-136.43456539672405\n",
      "204.54513586104753\n"
     ]
    }
   ],
   "source": [
    "# k\n",
    "print(b0 + b1 * 75 - t_21*math.sqrt(se**2*(1 + 1/n + (75 - x_mean)**2 / Sxx)))\n",
    "print(b0 + b1 * 75 + t_21*math.sqrt(se**2*(1 + 1/n + (75 - x_mean)**2 / Sxx)))"
   ]
  },
  {
   "cell_type": "code",
   "execution_count": 30,
   "metadata": {},
   "outputs": [
    {
     "data": {
      "text/plain": [
       "0.13177626878721402"
      ]
     },
     "execution_count": 30,
     "metadata": {},
     "output_type": "execute_result"
    }
   ],
   "source": [
    "# l\n",
    "ssr/Syy"
   ]
  },
  {
   "cell_type": "code",
   "execution_count": null,
   "metadata": {},
   "outputs": [],
   "source": [
    "#3\n"
   ]
  }
 ],
 "metadata": {
  "kernelspec": {
   "display_name": "Python 3",
   "language": "python",
   "name": "python3"
  },
  "language_info": {
   "codemirror_mode": {
    "name": "ipython",
    "version": 3
   },
   "file_extension": ".py",
   "mimetype": "text/x-python",
   "name": "python",
   "nbconvert_exporter": "python",
   "pygments_lexer": "ipython3",
   "version": "3.8.5"
  },
  "toc": {
   "base_numbering": 1,
   "nav_menu": {},
   "number_sections": true,
   "sideBar": true,
   "skip_h1_title": false,
   "title_cell": "Table of Contents",
   "title_sidebar": "Contents",
   "toc_cell": false,
   "toc_position": {},
   "toc_section_display": true,
   "toc_window_display": false
  }
 },
 "nbformat": 4,
 "nbformat_minor": 4
}
