{
 "cells": [
  {
   "cell_type": "code",
   "execution_count": 1,
   "metadata": {},
   "outputs": [],
   "source": [
    "import numpy as np\n",
    "import pandas as pd\n",
    "import pickle\n",
    "import os"
   ]
  },
  {
   "cell_type": "code",
   "execution_count": 4,
   "metadata": {},
   "outputs": [
    {
     "name": "stdout",
     "output_type": "stream",
     "text": [
      "file_list: ['2-8. 택배 배송 데이터.xlsx', '2-14. 택배 배송 데이터.xlsx', '2-4. 택배 배송 데이터.xlsx', '2-10. 택배 배송 데이터.xlsx', '2-9. 택배 배송 데이터.xlsx', '2-1. 택배 배송 데이터.xlsx', '2-11. 택배 배송 데이터.xlsx', '2-5. 택배 배송 데이터.xlsx', '2-7. 택배 배송 데이터.xlsx', '2-3. 택배 배송 데이터.xlsx', '2-13. 택배 배송 데이터.xlsx', '2-2. 택배 배송 데이터.xlsx', '2-12. 택배 배송 데이터.xlsx', '2-6. 택배 배송 데이터.xlsx']\n"
     ]
    }
   ],
   "source": [
    "\n",
    "path = \"/Users/heogeonhyeock/Desktop/인빅_프로젝트/2021년 미래기술 챌린지_211002/2. 택배 배송 데이터\"\n",
    "file_list = os.listdir(path)\n",
    "\n",
    "#파일 저장\n",
    "for i in range(len(file_list)):\n",
    "    Delivery = pd.read_excel(path+\"/\"+file_list[i])\n",
    "    with open(\"Delivery{}.pickle\".format(i+1),\"wb\") as fw:\n",
    "        pickle.dump(Delivery, fw)\n",
    "# 파일 불러오기\n",
    "for i in range(14):\n",
    "    with open(\"/Users/heogeonhyeock/Desktop/인빅_프로젝트/택배배송/Delivery{}.pickle\".format(i+1),\"rb\") as fr:\n",
    "        globals()[\"Delivery{}\".format(i+1)] = pickle.load(fr)\n",
    "        "
   ]
  },
  {
   "cell_type": "code",
   "execution_count": 28,
   "metadata": {},
   "outputs": [],
   "source": [
    "file_list.remove('.Rapp.history')"
   ]
  },
  {
   "cell_type": "code",
   "execution_count": 35,
   "metadata": {},
   "outputs": [
    {
     "data": {
      "text/plain": [
       "['1-1. 이커머스 FC주문 데이터_3월.csv',\n",
       " '1-2. 이커머스 FC주문 데이터_4월.csv',\n",
       " '1-3. 이커머스 FC주문 데이터_5월.csv',\n",
       " '1-4. 이커머스 FC주문 데이터_6월.csv']"
      ]
     },
     "execution_count": 35,
     "metadata": {},
     "output_type": "execute_result"
    }
   ],
   "source": [
    "file_list"
   ]
  },
  {
   "cell_type": "code",
   "execution_count": 6,
   "metadata": {
    "scrolled": true
   },
   "outputs": [
    {
     "name": "stdout",
     "output_type": "stream",
     "text": [
      "['1-1. 이커머스 FC주문 데이터_3월.csv', '1-2. 이커머스 FC주문 데이터_4월.csv', '1-3. 이커머스 FC주문 데이터_5월.csv', '1-4. 이커머스 FC주문 데이터_6월.csv']\n"
     ]
    }
   ],
   "source": [
    "path = \"/Users/heogeonhyeock/Desktop/인빅_프로젝트/2021년 미래기술 챌린지_211005/1. 이커머스 FC주문 데이터\"\n",
    "file_list = sorted(os.listdir(path))\n",
    "print(file_list)"
   ]
  },
  {
   "cell_type": "code",
   "execution_count": 8,
   "metadata": {},
   "outputs": [],
   "source": [
    "#파일 저장\n",
    "for i in range(len(file_list)):\n",
    "    FC_order = pd.read_excel(path+\"/\"+file_list[i])\n",
    "    with open(\"FC_order{}.pickle\".format(i+1),\"wb\") as fw:\n",
    "        pickle.dump(FC_order, fw)"
   ]
  },
  {
   "cell_type": "code",
   "execution_count": 1,
   "metadata": {},
   "outputs": [],
   "source": [
    "# 파일 불러오기\n",
    "import pickle\n",
    "\n",
    "for i in range(4):\n",
    "    with open(\"/Users/heogeonhyeock/Desktop/인빅_프로젝트/FC주문/FC_order{}.pickle\".format(i+1),\"rb\") as fr:\n",
    "        globals()[\"FC_order{}\".format(i+1)] = pickle.load(fr)"
   ]
  },
  {
   "cell_type": "code",
   "execution_count": null,
   "metadata": {},
   "outputs": [],
   "source": []
  }
 ],
 "metadata": {
  "kernelspec": {
   "display_name": "Python 3",
   "language": "python",
   "name": "python3"
  },
  "language_info": {
   "codemirror_mode": {
    "name": "ipython",
    "version": 3
   },
   "file_extension": ".py",
   "mimetype": "text/x-python",
   "name": "python",
   "nbconvert_exporter": "python",
   "pygments_lexer": "ipython3",
   "version": "3.8.5"
  }
 },
 "nbformat": 4,
 "nbformat_minor": 4
}
